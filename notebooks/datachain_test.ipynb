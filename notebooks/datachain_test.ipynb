{
 "cells": [
  {
   "cell_type": "markdown",
   "metadata": {},
   "source": [
    "```python\n",
    "from transformers import pipeline\n",
    "from datachain import DataChain, Column\n",
    "\n",
    "classifier = pipeline(\"sentiment-analysis\", device=\"cpu\",\n",
    "                model=\"distilbert/distilbert-base-uncased-finetuned-sst-2-english\")\n",
    "\n",
    "def is_positive_dialogue_ending(file) -> bool:\n",
    "    dialogue_ending = file.read()[-512:]\n",
    "    return classifier(dialogue_ending)[0][\"label\"] == \"POSITIVE\"\n",
    "\n",
    "chain = (\n",
    "   DataChain.from_storage(\"gs://datachain-demo/chatbot-KiT/\",\n",
    "                          object_name=\"file\", type=\"text\")\n",
    "   .settings(parallel=8, cache=True)\n",
    "   .map(is_positive=is_positive_dialogue_ending)\n",
    "   .save(\"file_response\")\n",
    ")\n",
    "\n",
    "positive_chain = chain.filter(Column(\"is_positive\") == True)\n",
    "positive_chain.export_files(\"./output\")\n",
    "\n",
    "print(f\"{positive_chain.count()} files were exported\")"
   ]
  },
  {
   "cell_type": "code",
   "execution_count": 7,
   "metadata": {},
   "outputs": [],
   "source": [
    "from utils import MBDataset, DATA_DIR\n",
    "import os \n",
    "import json\n",
    "from tqdm import tqdm"
   ]
  },
  {
   "cell_type": "code",
   "execution_count": 8,
   "metadata": {},
   "outputs": [
    {
     "name": "stderr",
     "output_type": "stream",
     "text": [
      "100%|██████████| 1053/1053 [00:00<00:00, 1062449.39it/s]\n"
     ]
    }
   ],
   "source": [
    "ds = MBDataset(DATA_DIR)"
   ]
  },
  {
   "cell_type": "code",
   "execution_count": 10,
   "metadata": {},
   "outputs": [
    {
     "name": "stderr",
     "output_type": "stream",
     "text": [
      "1053it [00:00, 6212.53it/s]\n"
     ]
    }
   ],
   "source": [
    "TURNS_PATH = \"data/test-MagicBrush/test/turns\"\n",
    "os.makedirs(TURNS_PATH, exist_ok=True)\n",
    "\n",
    "for idx, turn in tqdm(enumerate(ds.edit_turns)):\n",
    "    with open(os.path.join(TURNS_PATH, f\"{idx}.json\"), \"w\") as f:\n",
    "        json.dump(turn.to_json(), f, indent=4)"
   ]
  },
  {
   "cell_type": "code",
   "execution_count": null,
   "metadata": {},
   "outputs": [],
   "source": [
    "from transformers import pipeline\n",
    "from datachain import DataChain, Column\n",
    "\n",
    "oracle = pipeline(model=\"deepset/roberta-base-squad2\", device=\"mps\")\n",
    "\n",
    "def is_coloring_edit(obj) -> bool:\n",
    "\n",
    "    QUESTION = \"Is this edit instruction corresponding to a modification in the color of an object or the scene? JUST ANSWER YES OR NO\"\n",
    "\n",
    "    _edit = obj[\"instruction\"]\n",
    "\n",
    "    res = oracle(question=QUESTION, context=_edit)\n",
    "\n",
    "    return res[0][\"answer\"].lower() == \"yes\"\n",
    "\n",
    "chain = (\n",
    "      DataChain.from_json(\n",
    "      path=\"data/test-MagicBrush/test/turns/*.json\",\n",
    "      schema_from=\"data/mb_turns_schema.json\"\n",
    "   )\n",
    "   .map(is_coloring=is_coloring_edit)\n",
    "   .save(\"file_response\")\n",
    ")\n",
    "\n",
    "positive_chain = chain.filter(Column(\"is_coloring\") == True)"
   ]
  },
  {
   "cell_type": "code",
   "execution_count": null,
   "metadata": {},
   "outputs": [],
   "source": []
  }
 ],
 "metadata": {
  "kernelspec": {
   "display_name": ".venv",
   "language": "python",
   "name": "python3"
  },
  "language_info": {
   "codemirror_mode": {
    "name": "ipython",
    "version": 3
   },
   "file_extension": ".py",
   "mimetype": "text/x-python",
   "name": "python",
   "nbconvert_exporter": "python",
   "pygments_lexer": "ipython3",
   "version": "3.11.5"
  }
 },
 "nbformat": 4,
 "nbformat_minor": 2
}
